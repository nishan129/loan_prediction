{
 "cells": [
  {
   "cell_type": "code",
   "execution_count": 3,
   "metadata": {},
   "outputs": [],
   "source": [
    "from src.loan.constant.trainingpipeline import SCHEMA_FILE_PATH\n",
    "from sklearn.model_selection import train_test_split\n",
    "import pandas as pd\n",
    "import os, sys\n",
    "from src.loan.exception import ModelException\n",
    "from src.loan.logger import logging\n",
    "from scipy.stats import ks_2samp\n",
    "from src.loan.utils.main_utils import load_numpy_array_data, load_object, save_object"
   ]
  },
  {
   "cell_type": "code",
   "execution_count": 26,
   "metadata": {},
   "outputs": [],
   "source": [
    "from src.loan.utils.main_utils import read_yaml_file, write_yaml_file"
   ]
  },
  {
   "cell_type": "code",
   "execution_count": 3,
   "metadata": {},
   "outputs": [],
   "source": [
    "schema_config = read_yaml_file(\"D:/Machine Learning project/Loan/Loan Project/loan_prediction/config/schema.yaml\")"
   ]
  },
  {
   "cell_type": "code",
   "execution_count": 4,
   "metadata": {},
   "outputs": [],
   "source": [
    "import yaml\n",
    "\n",
    "def read_yaml_file(filename):\n",
    "    with open(filename, 'r') as file:\n",
    "        data = yaml.safe_load(file)\n",
    "    return data"
   ]
  },
  {
   "cell_type": "code",
   "execution_count": 5,
   "metadata": {},
   "outputs": [],
   "source": [
    "a = read_yaml_file(\"D:/Machine Learning project/Loan/Loan Project/loan_prediction/config/schema.yaml\")"
   ]
  },
  {
   "cell_type": "code",
   "execution_count": 6,
   "metadata": {},
   "outputs": [],
   "source": [
    "filename = \"D:/Machine Learning project/Loan/Loan Project/loan_prediction/research\""
   ]
  },
  {
   "cell_type": "code",
   "execution_count": 7,
   "metadata": {},
   "outputs": [],
   "source": [
    "report = {\"not\":\"ok\",\"oy\":\"jok\"}"
   ]
  },
  {
   "cell_type": "code",
   "execution_count": 8,
   "metadata": {},
   "outputs": [],
   "source": [
    "def write_yaml_file(filename: str, data, replace:bool = False) -> None:\n",
    "    try:\n",
    "        if replace:\n",
    "            if os.path.exists(filename):\n",
    "                os.remove(filename)\n",
    "        os.makedirs(os.path.dirname(filename), exist_ok=True)\n",
    "        with open(filename, \"w\") as file:\n",
    "            return yaml.dump(data,file,default_flow_style=False)\n",
    "    except Exception as e:\n",
    "        raise ModelException(e,sys)"
   ]
  },
  {
   "cell_type": "code",
   "execution_count": 9,
   "metadata": {},
   "outputs": [],
   "source": [
    "def writ_yaml_file(data, filename):\n",
    "    with open(filename, 'w') as file:\n",
    "        yaml.dump(data, file, default_flow_style=False)"
   ]
  },
  {
   "cell_type": "code",
   "execution_count": 10,
   "metadata": {},
   "outputs": [],
   "source": [
    "from src.loan.constant.trainingpipeline import PIPELINE_NAME, ARTIFACT_DIR"
   ]
  },
  {
   "cell_type": "code",
   "execution_count": 29,
   "metadata": {},
   "outputs": [],
   "source": [
    "a:str = 'data_validation'\n",
    "b:str = \"drift_report\"\n",
    "c:str = \"report.yaml\""
   ]
  },
  {
   "cell_type": "code",
   "execution_count": 37,
   "metadata": {},
   "outputs": [],
   "source": [
    "d = os.path.join(a,b,c)"
   ]
  },
  {
   "cell_type": "code",
   "execution_count": 31,
   "metadata": {},
   "outputs": [],
   "source": [
    "os.makedirs(d,exist_ok=True)"
   ]
  },
  {
   "cell_type": "code",
   "execution_count": 32,
   "metadata": {},
   "outputs": [],
   "source": [
    "def write_yaml_file(filename: str, data, replace:bool = False) -> None:\n",
    "    try:\n",
    "        if replace:\n",
    "            if os.path.exists(filename):\n",
    "                os.remove(filename)\n",
    "        os.makedirs(os.path.dirname(filename), exist_ok=True)\n",
    "        with open(filename, \"w\") as file:\n",
    "            return yaml.dump(data,file,default_flow_style=False)\n",
    "    except Exception as e:\n",
    "        raise ModelException(e,sys)"
   ]
  },
  {
   "cell_type": "code",
   "execution_count": 38,
   "metadata": {},
   "outputs": [],
   "source": [
    "report = {}"
   ]
  },
  {
   "cell_type": "code",
   "execution_count": 39,
   "metadata": {},
   "outputs": [],
   "source": [
    "for col in range(3):\n",
    "    report.update({col:{\"p_value\": float(col+1),\n",
    "                                        \"drift_status\": col -1}})"
   ]
  },
  {
   "cell_type": "code",
   "execution_count": 40,
   "metadata": {},
   "outputs": [
    {
     "name": "stdout",
     "output_type": "stream",
     "text": [
      "{0: {'p_value': 1.0, 'drift_status': -1}, 1: {'p_value': 2.0, 'drift_status': 0}, 2: {'p_value': 3.0, 'drift_status': 1}}\n"
     ]
    }
   ],
   "source": [
    "print(report)"
   ]
  },
  {
   "cell_type": "code",
   "execution_count": 41,
   "metadata": {},
   "outputs": [],
   "source": [
    "e = os.path.join(d)"
   ]
  },
  {
   "cell_type": "code",
   "execution_count": 42,
   "metadata": {},
   "outputs": [],
   "source": [
    "write_yaml_file(filename=e,data=report)"
   ]
  },
  {
   "cell_type": "code",
   "execution_count": 2,
   "metadata": {},
   "outputs": [],
   "source": [
    "from src.loan.constant.trainingpipeline import TRAIN_FILE_PATH, TEST_FILE_NAME\n",
    "import tensorflow as tf\n",
    "from tensorflow.keras.models import Sequential\n",
    "from tensorflow.keras.layers import Dense\n",
    "from tensorflow.keras.callbacks import EarlyStopping\n",
    "from tensorflow.keras.models import Model\n",
    "from tensorflow import keras\n",
    "from tensorflow.keras import layers"
   ]
  },
  {
   "cell_type": "code",
   "execution_count": 40,
   "metadata": {},
   "outputs": [],
   "source": [
    "def make_model(X_train, num_classes):\n",
    "    \n",
    "    \n",
    "    # Entry block\n",
    "    x = Dense(396,activation=\"relu\",input_shape=(X_train.shape[1]))(X_train)\n",
    "    x = Dense(198, activation=\"relu\")(x)\n",
    "    x = Dense(99, activation=\"relu\")(x)\n",
    "    x = Dense(32, activation=\"relu\")(x)\n",
    "    x = Dense(16, activation=\"relu\")(x)\n",
    "    x = Dense(8, activation=\"relu\")(x)\n",
    "    \n",
    "    if num_classes == 2:\n",
    "        units = 1\n",
    "    else: \n",
    "        units = num_classes\n",
    "    \n",
    "    outputs = Dense(units, activation=\"sigmoid\")(x)\n",
    "    \n",
    "    \n",
    "    return keras.Model(X_train,outputs)"
   ]
  },
  {
   "cell_type": "code",
   "execution_count": 48,
   "metadata": {},
   "outputs": [],
   "source": [
    "def build_model(X_train):\n",
    "        try:\n",
    "            logging.info(\"ANN Model building Start\")\n",
    "            model = tf.keras.models.Sequential([\n",
    "    tf.keras.layers.Dense(64, activation='relu', input_shape=(X_train.shape[1],)),  # Input layer with 64 neurons and ReLU activation\n",
    "    tf.keras.layers.Dense(128, activation='relu'),  # Hidden layer with 128 neurons and ReLU activation\n",
    "    tf.keras.layers.Dense(64, activation='relu'),   # Hidden layer with 64 neurons and ReLU activation\n",
    "    tf.keras.layers.Dense(32, activation='relu'),   # Hidden layer with 32 neurons and ReLU activation\n",
    "    tf.keras.layers.Dense(16, activation='relu'),   # Hidden layer with 16 neurons and ReLU activation\n",
    "    tf.keras.layers.Dense(8, activation='relu'),    # Hidden layer with 8 neurons and ReLU activation\n",
    "    tf.keras.layers.Dense(1, activation='sigmoid')  # Output layer with 1 neuron (for binary classification) and Sigmoid activation\n",
    "])\n",
    "            model.compile(optimizer='adam', loss='binary_crossentropy', metrics=['accuracy'])\n",
    "            logging.info(\"Model Building is Complete\")\n",
    "            return model\n",
    "        except Exception as e:\n",
    "            raise ModelException(e,sys)"
   ]
  },
  {
   "cell_type": "code",
   "execution_count": 49,
   "metadata": {},
   "outputs": [
    {
     "data": {
      "text/plain": [
       "<Sequential name=sequential_2, built=True>"
      ]
     },
     "execution_count": 49,
     "metadata": {},
     "output_type": "execute_result"
    }
   ],
   "source": [
    "build_model(X_train=X_train)"
   ]
  },
  {
   "cell_type": "code",
   "execution_count": 56,
   "metadata": {},
   "outputs": [],
   "source": [
    "class ANNClassifier:\n",
    "    def __init__(self,X_train,y_train):\n",
    "        try:\n",
    "            self.X_train = X_train\n",
    "            self.y_train = y_train\n",
    "            self.model = self._build_model\n",
    "        except Exception as e:\n",
    "            raise ModelException(e,sys)\n",
    "        \n",
    "    def _build_model(self):\n",
    "        try:\n",
    "            logging.info(\"ANN Model building Start\")\n",
    "            model = tf.keras.models.Sequential([\n",
    "    tf.keras.layers.Dense(64, activation='relu', input_shape=(self.X_train.shape[1],)),  # Input layer with 64 neurons and ReLU activation\n",
    "    tf.keras.layers.Dense(128, activation='relu'),  # Hidden layer with 128 neurons and ReLU activation\n",
    "    tf.keras.layers.Dense(64, activation='relu'),   # Hidden layer with 64 neurons and ReLU activation\n",
    "    tf.keras.layers.Dense(32, activation='relu'),   # Hidden layer with 32 neurons and ReLU activation\n",
    "    tf.keras.layers.Dense(16, activation='relu'),   # Hidden layer with 16 neurons and ReLU activation\n",
    "    tf.keras.layers.Dense(8, activation='relu'),    # Hidden layer with 8 neurons and ReLU activation\n",
    "    tf.keras.layers.Dense(1, activation='sigmoid')  # Output layer with 1 neuron (for binary classification) and Sigmoid activation\n",
    "])\n",
    "            model.compile(optimizer='adam', loss='binary_crossentropy', metrics=['accuracy'])\n",
    "            logging.info(\"Model Building is Complete\")\n",
    "            return model\n",
    "        except Exception as e:\n",
    "            raise ModelException(e,sys)\n",
    "    \n",
    "    def train(self,epochs=100,batch_size=32,validation_data=None):\n",
    "        logging.info(\"Model Training is start \")\n",
    "        #early_stopping = EarlyStopping(monitor='val_loss', patience=5, verbose=1)\n",
    "        history = self.model.fit(self.X_train,self.y_train,epochs=epochs,\n",
    "                                 batch_size=batch_size)#,validation_data=validation_data,\n",
    "                                 #callbacks=[early_stopping])\n",
    "        logging.info(f\"Model trainig is complete {history.history}\")\n",
    "        return history\n",
    "    \n",
    "    def evaluate(self, X_test, y_test):\n",
    "        logging.info(\"Model evaluation done\")\n",
    "        return self.model.evaluate(X_test, y_test)"
   ]
  },
  {
   "cell_type": "code",
   "execution_count": 4,
   "metadata": {},
   "outputs": [],
   "source": [
    "X_path = \"D:/Machine Learning project/Loan/Loan Project/loan_prediction/artifact/data_transformation/transformed/train.npy\"\n",
    "y_path = \"artifact/data_transformation/transformed/test.npy\""
   ]
  },
  {
   "cell_type": "code",
   "execution_count": 5,
   "metadata": {},
   "outputs": [],
   "source": [
    "train = os.path.join(X_path)"
   ]
  },
  {
   "cell_type": "code",
   "execution_count": 6,
   "metadata": {},
   "outputs": [],
   "source": [
    "train=load_numpy_array_data(X_path)"
   ]
  },
  {
   "cell_type": "code",
   "execution_count": 7,
   "metadata": {},
   "outputs": [],
   "source": [
    "gg = pd.DataFrame(train[:,-1])"
   ]
  },
  {
   "cell_type": "code",
   "execution_count": 160,
   "metadata": {},
   "outputs": [
    {
     "data": {
      "text/plain": [
       "0    2\n",
       "dtype: int64"
      ]
     },
     "execution_count": 160,
     "metadata": {},
     "output_type": "execute_result"
    }
   ],
   "source": [
    "gg.nunique()"
   ]
  },
  {
   "cell_type": "code",
   "execution_count": 8,
   "metadata": {},
   "outputs": [],
   "source": [
    "X_train, y_train =(\n",
    "    train[:,:-1],\n",
    "    train[:,-1],\n",
    ")"
   ]
  },
  {
   "cell_type": "code",
   "execution_count": null,
   "metadata": {},
   "outputs": [],
   "source": []
  },
  {
   "cell_type": "code",
   "execution_count": 31,
   "metadata": {},
   "outputs": [
    {
     "data": {
      "text/plain": [
       "396"
      ]
     },
     "execution_count": 31,
     "metadata": {},
     "output_type": "execute_result"
    }
   ],
   "source": [
    "X_train.shape[1]"
   ]
  },
  {
   "cell_type": "code",
   "execution_count": 32,
   "metadata": {},
   "outputs": [
    {
     "data": {
      "text/plain": [
       "396"
      ]
     },
     "execution_count": 32,
     "metadata": {},
     "output_type": "execute_result"
    }
   ],
   "source": [
    "len(X_train[0])"
   ]
  },
  {
   "cell_type": "code",
   "execution_count": 162,
   "metadata": {},
   "outputs": [],
   "source": [
    "model = ANNClassifier(X_train=X_train,y_train=y_train)"
   ]
  },
  {
   "cell_type": "code",
   "execution_count": 163,
   "metadata": {},
   "outputs": [
    {
     "name": "stderr",
     "output_type": "stream",
     "text": [
      "c:\\Users\\Nishant Borkar\\anaconda3\\envs\\lven\\lib\\site-packages\\keras\\src\\layers\\core\\dense.py:88: UserWarning: Do not pass an `input_shape`/`input_dim` argument to a layer. When using Sequential models, prefer using an `Input(shape)` object as the first layer in the model instead.\n",
      "  super().__init__(activity_regularizer=activity_regularizer, **kwargs)\n"
     ]
    }
   ],
   "source": [
    "acc = model._build_model()"
   ]
  },
  {
   "cell_type": "code",
   "execution_count": 164,
   "metadata": {},
   "outputs": [
    {
     "name": "stdout",
     "output_type": "stream",
     "text": [
      "\u001b[1m12429/12429\u001b[0m \u001b[32m━━━━━━━━━━━━━━━━━━━━\u001b[0m\u001b[37m\u001b[0m \u001b[1m15s\u001b[0m 1ms/step - accuracy: 0.8027 - loss: 0.4192\n"
     ]
    },
    {
     "data": {
      "text/plain": [
       "<keras.src.callbacks.history.History at 0x1e82cded780>"
      ]
     },
     "execution_count": 164,
     "metadata": {},
     "output_type": "execute_result"
    }
   ],
   "source": [
    "acc.fit(X_train,y_train)"
   ]
  },
  {
   "cell_type": "code",
   "execution_count": 191,
   "metadata": {},
   "outputs": [
    {
     "data": {
      "text/html": [
       "<pre style=\"white-space:pre;overflow-x:auto;line-height:normal;font-family:Menlo,'DejaVu Sans Mono',consolas,'Courier New',monospace\"><span style=\"font-weight: bold\">Model: \"sequential_4\"</span>\n",
       "</pre>\n"
      ],
      "text/plain": [
       "\u001b[1mModel: \"sequential_4\"\u001b[0m\n"
      ]
     },
     "metadata": {},
     "output_type": "display_data"
    },
    {
     "data": {
      "text/html": [
       "<pre style=\"white-space:pre;overflow-x:auto;line-height:normal;font-family:Menlo,'DejaVu Sans Mono',consolas,'Courier New',monospace\">┏━━━━━━━━━━━━━━━━━━━━━━━━━━━━━━━━━┳━━━━━━━━━━━━━━━━━━━━━━━━┳━━━━━━━━━━━━━━━┓\n",
       "┃<span style=\"font-weight: bold\"> Layer (type)                    </span>┃<span style=\"font-weight: bold\"> Output Shape           </span>┃<span style=\"font-weight: bold\">       Param # </span>┃\n",
       "┡━━━━━━━━━━━━━━━━━━━━━━━━━━━━━━━━━╇━━━━━━━━━━━━━━━━━━━━━━━━╇━━━━━━━━━━━━━━━┩\n",
       "│ dense_43 (<span style=\"color: #0087ff; text-decoration-color: #0087ff\">Dense</span>)                │ (<span style=\"color: #00d7ff; text-decoration-color: #00d7ff\">None</span>, <span style=\"color: #00af00; text-decoration-color: #00af00\">64</span>)             │        <span style=\"color: #00af00; text-decoration-color: #00af00\">25,408</span> │\n",
       "├─────────────────────────────────┼────────────────────────┼───────────────┤\n",
       "│ dense_44 (<span style=\"color: #0087ff; text-decoration-color: #0087ff\">Dense</span>)                │ (<span style=\"color: #00d7ff; text-decoration-color: #00d7ff\">None</span>, <span style=\"color: #00af00; text-decoration-color: #00af00\">128</span>)            │         <span style=\"color: #00af00; text-decoration-color: #00af00\">8,320</span> │\n",
       "├─────────────────────────────────┼────────────────────────┼───────────────┤\n",
       "│ dense_45 (<span style=\"color: #0087ff; text-decoration-color: #0087ff\">Dense</span>)                │ (<span style=\"color: #00d7ff; text-decoration-color: #00d7ff\">None</span>, <span style=\"color: #00af00; text-decoration-color: #00af00\">64</span>)             │         <span style=\"color: #00af00; text-decoration-color: #00af00\">8,256</span> │\n",
       "├─────────────────────────────────┼────────────────────────┼───────────────┤\n",
       "│ dense_46 (<span style=\"color: #0087ff; text-decoration-color: #0087ff\">Dense</span>)                │ (<span style=\"color: #00d7ff; text-decoration-color: #00d7ff\">None</span>, <span style=\"color: #00af00; text-decoration-color: #00af00\">32</span>)             │         <span style=\"color: #00af00; text-decoration-color: #00af00\">2,080</span> │\n",
       "├─────────────────────────────────┼────────────────────────┼───────────────┤\n",
       "│ dense_47 (<span style=\"color: #0087ff; text-decoration-color: #0087ff\">Dense</span>)                │ (<span style=\"color: #00d7ff; text-decoration-color: #00d7ff\">None</span>, <span style=\"color: #00af00; text-decoration-color: #00af00\">16</span>)             │           <span style=\"color: #00af00; text-decoration-color: #00af00\">528</span> │\n",
       "├─────────────────────────────────┼────────────────────────┼───────────────┤\n",
       "│ dense_48 (<span style=\"color: #0087ff; text-decoration-color: #0087ff\">Dense</span>)                │ (<span style=\"color: #00d7ff; text-decoration-color: #00d7ff\">None</span>, <span style=\"color: #00af00; text-decoration-color: #00af00\">8</span>)              │           <span style=\"color: #00af00; text-decoration-color: #00af00\">136</span> │\n",
       "├─────────────────────────────────┼────────────────────────┼───────────────┤\n",
       "│ dense_49 (<span style=\"color: #0087ff; text-decoration-color: #0087ff\">Dense</span>)                │ (<span style=\"color: #00d7ff; text-decoration-color: #00d7ff\">None</span>, <span style=\"color: #00af00; text-decoration-color: #00af00\">1</span>)              │             <span style=\"color: #00af00; text-decoration-color: #00af00\">9</span> │\n",
       "└─────────────────────────────────┴────────────────────────┴───────────────┘\n",
       "</pre>\n"
      ],
      "text/plain": [
       "┏━━━━━━━━━━━━━━━━━━━━━━━━━━━━━━━━━┳━━━━━━━━━━━━━━━━━━━━━━━━┳━━━━━━━━━━━━━━━┓\n",
       "┃\u001b[1m \u001b[0m\u001b[1mLayer (type)                   \u001b[0m\u001b[1m \u001b[0m┃\u001b[1m \u001b[0m\u001b[1mOutput Shape          \u001b[0m\u001b[1m \u001b[0m┃\u001b[1m \u001b[0m\u001b[1m      Param #\u001b[0m\u001b[1m \u001b[0m┃\n",
       "┡━━━━━━━━━━━━━━━━━━━━━━━━━━━━━━━━━╇━━━━━━━━━━━━━━━━━━━━━━━━╇━━━━━━━━━━━━━━━┩\n",
       "│ dense_43 (\u001b[38;5;33mDense\u001b[0m)                │ (\u001b[38;5;45mNone\u001b[0m, \u001b[38;5;34m64\u001b[0m)             │        \u001b[38;5;34m25,408\u001b[0m │\n",
       "├─────────────────────────────────┼────────────────────────┼───────────────┤\n",
       "│ dense_44 (\u001b[38;5;33mDense\u001b[0m)                │ (\u001b[38;5;45mNone\u001b[0m, \u001b[38;5;34m128\u001b[0m)            │         \u001b[38;5;34m8,320\u001b[0m │\n",
       "├─────────────────────────────────┼────────────────────────┼───────────────┤\n",
       "│ dense_45 (\u001b[38;5;33mDense\u001b[0m)                │ (\u001b[38;5;45mNone\u001b[0m, \u001b[38;5;34m64\u001b[0m)             │         \u001b[38;5;34m8,256\u001b[0m │\n",
       "├─────────────────────────────────┼────────────────────────┼───────────────┤\n",
       "│ dense_46 (\u001b[38;5;33mDense\u001b[0m)                │ (\u001b[38;5;45mNone\u001b[0m, \u001b[38;5;34m32\u001b[0m)             │         \u001b[38;5;34m2,080\u001b[0m │\n",
       "├─────────────────────────────────┼────────────────────────┼───────────────┤\n",
       "│ dense_47 (\u001b[38;5;33mDense\u001b[0m)                │ (\u001b[38;5;45mNone\u001b[0m, \u001b[38;5;34m16\u001b[0m)             │           \u001b[38;5;34m528\u001b[0m │\n",
       "├─────────────────────────────────┼────────────────────────┼───────────────┤\n",
       "│ dense_48 (\u001b[38;5;33mDense\u001b[0m)                │ (\u001b[38;5;45mNone\u001b[0m, \u001b[38;5;34m8\u001b[0m)              │           \u001b[38;5;34m136\u001b[0m │\n",
       "├─────────────────────────────────┼────────────────────────┼───────────────┤\n",
       "│ dense_49 (\u001b[38;5;33mDense\u001b[0m)                │ (\u001b[38;5;45mNone\u001b[0m, \u001b[38;5;34m1\u001b[0m)              │             \u001b[38;5;34m9\u001b[0m │\n",
       "└─────────────────────────────────┴────────────────────────┴───────────────┘\n"
      ]
     },
     "metadata": {},
     "output_type": "display_data"
    },
    {
     "data": {
      "text/html": [
       "<pre style=\"white-space:pre;overflow-x:auto;line-height:normal;font-family:Menlo,'DejaVu Sans Mono',consolas,'Courier New',monospace\"><span style=\"font-weight: bold\"> Total params: </span><span style=\"color: #00af00; text-decoration-color: #00af00\">134,213</span> (524.27 KB)\n",
       "</pre>\n"
      ],
      "text/plain": [
       "\u001b[1m Total params: \u001b[0m\u001b[38;5;34m134,213\u001b[0m (524.27 KB)\n"
      ]
     },
     "metadata": {},
     "output_type": "display_data"
    },
    {
     "data": {
      "text/html": [
       "<pre style=\"white-space:pre;overflow-x:auto;line-height:normal;font-family:Menlo,'DejaVu Sans Mono',consolas,'Courier New',monospace\"><span style=\"font-weight: bold\"> Trainable params: </span><span style=\"color: #00af00; text-decoration-color: #00af00\">44,737</span> (174.75 KB)\n",
       "</pre>\n"
      ],
      "text/plain": [
       "\u001b[1m Trainable params: \u001b[0m\u001b[38;5;34m44,737\u001b[0m (174.75 KB)\n"
      ]
     },
     "metadata": {},
     "output_type": "display_data"
    },
    {
     "data": {
      "text/html": [
       "<pre style=\"white-space:pre;overflow-x:auto;line-height:normal;font-family:Menlo,'DejaVu Sans Mono',consolas,'Courier New',monospace\"><span style=\"font-weight: bold\"> Non-trainable params: </span><span style=\"color: #00af00; text-decoration-color: #00af00\">0</span> (0.00 B)\n",
       "</pre>\n"
      ],
      "text/plain": [
       "\u001b[1m Non-trainable params: \u001b[0m\u001b[38;5;34m0\u001b[0m (0.00 B)\n"
      ]
     },
     "metadata": {},
     "output_type": "display_data"
    },
    {
     "data": {
      "text/html": [
       "<pre style=\"white-space:pre;overflow-x:auto;line-height:normal;font-family:Menlo,'DejaVu Sans Mono',consolas,'Courier New',monospace\"><span style=\"font-weight: bold\"> Optimizer params: </span><span style=\"color: #00af00; text-decoration-color: #00af00\">89,476</span> (349.52 KB)\n",
       "</pre>\n"
      ],
      "text/plain": [
       "\u001b[1m Optimizer params: \u001b[0m\u001b[38;5;34m89,476\u001b[0m (349.52 KB)\n"
      ]
     },
     "metadata": {},
     "output_type": "display_data"
    }
   ],
   "source": [
    "acc.summary()"
   ]
  },
  {
   "cell_type": "code",
   "execution_count": 195,
   "metadata": {},
   "outputs": [],
   "source": [
    "a = X_train[0]"
   ]
  },
  {
   "cell_type": "code",
   "execution_count": 202,
   "metadata": {},
   "outputs": [],
   "source": [
    "aa = tf.cast(a, tf.float32)"
   ]
  },
  {
   "cell_type": "code",
   "execution_count": 204,
   "metadata": {},
   "outputs": [],
   "source": [
    "mm = ll.signatures[\"serving_default\"]"
   ]
  },
  {
   "cell_type": "code",
   "execution_count": 189,
   "metadata": {},
   "outputs": [],
   "source": [
    "tf.saved_model.save(acc,\"D:/Machine Learning project/Loan/Loan Project/loan_prediction/research/model\")"
   ]
  },
  {
   "cell_type": "code",
   "execution_count": 165,
   "metadata": {},
   "outputs": [
    {
     "name": "stdout",
     "output_type": "stream",
     "text": [
      "\u001b[1m12429/12429\u001b[0m \u001b[32m━━━━━━━━━━━━━━━━━━━━\u001b[0m\u001b[37m\u001b[0m \u001b[1m9s\u001b[0m 681us/step\n"
     ]
    }
   ],
   "source": [
    "apred =acc.predict(X_train)"
   ]
  },
  {
   "cell_type": "code",
   "execution_count": 95,
   "metadata": {},
   "outputs": [],
   "source": [
    "from src.loan.ml.model.metrics import get_classification_score"
   ]
  },
  {
   "cell_type": "code",
   "execution_count": 166,
   "metadata": {},
   "outputs": [
    {
     "data": {
      "text/plain": [
       "array([[0.01425832],\n",
       "       [0.00700242],\n",
       "       [0.01710931],\n",
       "       ...,\n",
       "       [0.853027  ],\n",
       "       [0.9475645 ],\n",
       "       [0.9681924 ]], dtype=float32)"
      ]
     },
     "execution_count": 166,
     "metadata": {},
     "output_type": "execute_result"
    }
   ],
   "source": [
    "apred"
   ]
  },
  {
   "cell_type": "code",
   "execution_count": 170,
   "metadata": {},
   "outputs": [],
   "source": [
    "import numpy as np\n",
    "import pandas as pd\n",
    "pred = np.where(apred >= 0.5,1,0)"
   ]
  },
  {
   "cell_type": "code",
   "execution_count": 171,
   "metadata": {},
   "outputs": [
    {
     "data": {
      "text/plain": [
       "array([[0],\n",
       "       [0],\n",
       "       [0],\n",
       "       ...,\n",
       "       [1],\n",
       "       [1],\n",
       "       [1]])"
      ]
     },
     "execution_count": 171,
     "metadata": {},
     "output_type": "execute_result"
    }
   ],
   "source": [
    "pred"
   ]
  },
  {
   "cell_type": "code",
   "execution_count": 132,
   "metadata": {},
   "outputs": [],
   "source": [
    "dd = pd.DataFrame(pred)\n",
    "df = pd.DataFrame(y_train)"
   ]
  },
  {
   "cell_type": "code",
   "execution_count": 135,
   "metadata": {},
   "outputs": [
    {
     "data": {
      "text/plain": [
       "0    2\n",
       "dtype: int64"
      ]
     },
     "execution_count": 135,
     "metadata": {},
     "output_type": "execute_result"
    }
   ],
   "source": [
    "dd.nunique()"
   ]
  },
  {
   "cell_type": "code",
   "execution_count": 138,
   "metadata": {},
   "outputs": [
    {
     "data": {
      "text/plain": [
       "array([0.        , 1.        , 0.24345795, 0.80674464, 0.73832183,\n",
       "       0.99898507, 0.35087146, 0.1302655 , 0.99627696, 0.38949417,\n",
       "       0.78492598, 0.96645378, 0.03699831, 0.43468451, 0.14926569,\n",
       "       0.62056968, 0.0535005 , 0.06455391, 0.76670079, 0.85909463,\n",
       "       0.74612994, 0.85720649, 0.78279191, 0.17069383, 0.76060202,\n",
       "       0.08416328, 0.45434069, 0.84150237, 0.98622023, 0.97883548,\n",
       "       0.28896836, 0.44663335, 0.88523557, 0.35450921, 0.93013537,\n",
       "       0.23003618, 0.99537105, 0.7461622 , 0.68259974, 0.60435253,\n",
       "       0.82218481, 0.335901  , 0.71832154, 0.22207507, 0.81672971,\n",
       "       0.61269009, 0.10138215, 0.87771118, 0.37314233, 0.46249066,\n",
       "       0.11299634, 0.54985596, 0.69887971, 0.13812565, 0.05022439,\n",
       "       0.38646019, 0.568235  , 0.21825937, 0.16265991, 0.2256732 ,\n",
       "       0.81497406, 0.69762468, 0.32218658, 0.59432634, 0.92762945,\n",
       "       0.17792054, 0.70253441, 0.87054975, 0.7214562 , 0.64274067,\n",
       "       0.58350997, 0.33812756, 0.92491282, 0.67122496, 0.54055423,\n",
       "       0.58221633, 0.37218256, 0.21056623, 0.19098739, 0.98709996,\n",
       "       0.30760342, 0.73285287, 0.15591008, 0.98743275, 0.90246698,\n",
       "       0.39633354, 0.7111091 , 0.32309273, 0.60369271, 0.34062625,\n",
       "       0.1317865 , 0.23903698, 0.34505609, 0.7056209 , 0.9299157 ,\n",
       "       0.90254905, 0.39267982, 0.95408517, 0.53743836, 0.04379944,\n",
       "       0.16652664, 0.61016741, 0.74902207, 0.36475872, 0.18362537,\n",
       "       0.88915981, 0.82893132, 0.4947359 , 0.72850274, 0.40404968,\n",
       "       0.0528865 , 0.0323115 , 0.54799292, 0.27980327, 0.60088602,\n",
       "       0.2473269 , 0.94713101, 0.09859828, 0.87235704, 0.41912635,\n",
       "       0.66026215, 0.91225426, 0.59066932, 0.29920713, 0.68117926,\n",
       "       0.63241644, 0.57302463, 0.87686462, 0.06232667, 0.21277755,\n",
       "       0.74273551, 0.82594938, 0.65308269, 0.43503251, 0.77905387,\n",
       "       0.38993488, 0.02999891, 0.80024797, 0.59819334, 0.84461393,\n",
       "       0.0585919 , 0.79360149, 0.35159533, 0.94502217, 0.79415695,\n",
       "       0.13136135, 0.41535681, 0.0919728 , 0.61563026, 0.54663251,\n",
       "       0.43211921, 0.42099735, 0.60660111, 0.30995406, 0.89983472,\n",
       "       0.15234186, 0.20747328, 0.55371369, 0.49723488, 0.36117477,\n",
       "       0.56965695, 0.03943909, 0.48265579, 0.46520406, 0.47934083,\n",
       "       0.355429  , 0.0197386 , 0.41835632, 0.02146129, 0.35761343,\n",
       "       0.11929889, 0.82852071, 0.53959537, 0.00387678, 0.05072211,\n",
       "       0.1142875 , 0.0028649 , 0.7327666 , 0.2825633 , 0.46190428,\n",
       "       0.26929895, 0.28567086, 0.33364911, 0.86185661, 0.53188735,\n",
       "       0.41641801, 0.73179371, 0.83527304, 0.28638885, 0.55891569,\n",
       "       0.06013353, 0.27008848, 0.55601279, 0.93914622, 0.20749575,\n",
       "       0.22983868, 0.11620439, 0.70936163, 0.51287057, 0.85449423,\n",
       "       0.57448466, 0.82976362, 0.21190999, 0.07629057, 0.04754601,\n",
       "       0.72795178, 0.29116826, 0.51918461, 0.08847885, 0.06417023,\n",
       "       0.1422187 , 0.03216445, 0.55574921, 0.51396119, 0.71929907,\n",
       "       0.9864051 , 0.12864981, 0.52426541, 0.55549883, 0.00709077,\n",
       "       0.28825093, 0.35660818, 0.4324003 , 0.80174286, 0.58771656,\n",
       "       0.15922584, 0.04729844, 0.50993132, 0.29546908, 0.91222331,\n",
       "       0.01987783, 0.65600009, 0.42407347, 0.96866778, 0.10549554,\n",
       "       0.12029806, 0.18164531, 0.92903563, 0.96779359, 0.76406381,\n",
       "       0.51086441, 0.55641754, 0.959909  , 0.31106285, 0.37045628,\n",
       "       0.97648327, 0.37202214, 0.46213348, 0.57733641, 0.01111707,\n",
       "       0.1165982 , 0.64985557, 0.86116882, 0.02085988, 0.16695508,\n",
       "       0.22560368, 0.56645418, 0.35783844, 0.18035103, 0.92904603,\n",
       "       0.80019061, 0.9990338 , 0.715159  , 0.15951656, 0.10811444,\n",
       "       0.90044999, 0.9106026 , 0.76792898, 0.70776604, 0.24681669,\n",
       "       0.91694124, 0.8446121 , 0.44671437, 0.77444893, 0.1924049 ,\n",
       "       0.13868844, 0.47241695, 0.28977617, 0.93823402, 0.78775849,\n",
       "       0.27326373, 0.15540543, 0.47593587, 0.20040297, 0.96791946,\n",
       "       0.39183202, 0.31108885, 0.18883574, 0.09713076, 0.723187  ,\n",
       "       0.60405047, 0.89371259, 0.54468884, 0.8192362 , 0.43408952,\n",
       "       0.89567261, 0.04271419, 0.849261  , 0.40917323, 0.17192141,\n",
       "       0.07130872, 0.75981162, 0.2287606 , 0.2422799 , 0.39935418,\n",
       "       0.99186991, 0.28383458, 0.47627945, 0.82122983, 0.30492775,\n",
       "       0.28155517, 0.52730507, 0.228235  , 0.73199386, 0.56895784,\n",
       "       0.86488081, 0.33841601, 0.90132795, 0.40934947, 0.90707434,\n",
       "       0.05670367, 0.86884741, 0.15762844, 0.69771465, 0.5680428 ,\n",
       "       0.1941634 , 0.2775499 , 0.27599022, 0.98853499, 0.64010868,\n",
       "       0.85219271, 0.49620082, 0.19621351, 0.62093193, 0.88827531,\n",
       "       0.09878595, 0.32399362, 0.45586639, 0.31000177, 0.35158932,\n",
       "       0.94876805, 0.26063042, 0.01596559, 0.9611627 , 0.90204175,\n",
       "       0.48816126, 0.6444987 , 0.76466175, 0.3113142 , 0.98480003,\n",
       "       0.83246762, 0.2119927 , 0.85594827, 0.69943499, 0.57877658,\n",
       "       0.71469372, 0.26904429, 0.56012804, 0.38055629, 0.09650452,\n",
       "       0.54530312, 0.73637308, 0.21786114, 0.01800633, 0.09111352,\n",
       "       0.92938872, 0.19364631, 0.67627123, 0.16506078, 0.71881781,\n",
       "       0.31048399, 0.6577563 , 0.06070148, 0.69376539, 0.11155743,\n",
       "       0.0720994 , 0.96841222, 0.85157293, 0.15091818, 0.67029609,\n",
       "       0.32354292, 0.20476843, 0.40255118, 0.91793338, 0.83565548,\n",
       "       0.46948458, 0.71078202, 0.15118471, 0.0354903 , 0.84051095,\n",
       "       0.56898179, 0.76138101, 0.79224806, 0.8380392 , 0.38442272,\n",
       "       0.36851077, 0.8538077 , 0.23030809, 0.84545023, 0.67419207,\n",
       "       0.46024678, 0.49272901, 0.81848136, 0.55911638, 0.93399889,\n",
       "       0.97482849, 0.2236506 , 0.47655512, 0.85875501, 0.90561543,\n",
       "       0.65196909, 0.75422658, 0.99012567, 0.78992353, 0.32837788,\n",
       "       0.72823154, 0.49597458, 0.67271727, 0.77328896, 0.24848849,\n",
       "       0.4833706 , 0.72128565, 0.83082472, 0.84253686, 0.22639004,\n",
       "       0.72335125, 0.11810685, 0.13480315, 0.6214206 , 0.79165781,\n",
       "       0.29601431, 0.85142272, 0.49884162, 0.07686838, 0.56486078,\n",
       "       0.95692485, 0.19961169, 0.40894058, 0.36518913, 0.85501752,\n",
       "       0.29009553, 0.47641312, 0.68192711, 0.83215526, 0.63879585,\n",
       "       0.80609188, 0.80198056, 0.05472778, 0.4652143 , 0.03815758,\n",
       "       0.97915998, 0.455004  , 0.26661495, 0.52461687, 0.66923205,\n",
       "       0.71413565, 0.51318325, 0.93383681, 0.16455632, 0.91386041,\n",
       "       0.77498214, 0.71360566, 0.29818109, 0.89346922, 0.74634516,\n",
       "       0.26274345, 0.3153263 , 0.55918869, 0.90349407, 0.61419621,\n",
       "       0.30087756, 0.71144911, 0.32901385, 0.32659807, 0.08115864,\n",
       "       0.44383709, 0.94021119, 0.79844681, 0.94674379, 0.3043201 ,\n",
       "       0.94762431, 0.34776917, 0.72581609, 0.93868885, 0.90348429,\n",
       "       0.10476875, 0.9317844 , 0.33215855, 0.85085163, 0.56591479,\n",
       "       0.4581531 , 0.11161934, 0.96859572, 0.2377555 , 0.16402257,\n",
       "       0.7511799 , 0.6089471 , 0.51433727, 0.93462037, 0.87454209,\n",
       "       0.29405229, 0.6362741 , 0.36093354, 0.21138245, 0.97942019,\n",
       "       0.20478789, 0.25510819, 0.7185587 , 0.78762005, 0.93675007,\n",
       "       0.86918159, 0.95348087, 0.83080479, 0.31269466, 0.54065026,\n",
       "       0.23052862, 0.6511599 , 0.94125068, 0.21232781, 0.42829695,\n",
       "       0.52107035, 0.24844255, 0.09025802, 0.20352186, 0.55154849,\n",
       "       0.27567327, 0.01204373, 0.68670512, 0.89302695, 0.86073732,\n",
       "       0.12030756, 0.46490859, 0.34730307, 0.59069326, 0.15155231,\n",
       "       0.82748082, 0.11073259, 0.07646909, 0.1844647 , 0.46258383,\n",
       "       0.08070413, 0.26418688, 0.56142134, 0.72740801, 0.19050997,\n",
       "       0.28861223, 0.55558494, 0.22918728, 0.44704864, 0.1907701 ,\n",
       "       0.39412791, 0.74528646, 0.73732206, 0.36291101, 0.62061202,\n",
       "       0.53834368, 0.05829513, 0.88737939, 0.4825109 , 0.44024641,\n",
       "       0.13126855, 0.04728777, 0.10211838, 0.89371745, 0.6352354 ,\n",
       "       0.29023533, 0.20008828, 0.23238923, 0.57123419])"
      ]
     },
     "execution_count": 138,
     "metadata": {},
     "output_type": "execute_result"
    }
   ],
   "source": [
    "df[0].unique()"
   ]
  },
  {
   "cell_type": "code",
   "execution_count": 121,
   "metadata": {},
   "outputs": [],
   "source": [
    "from sklearn.metrics import f1_score,precision_score,recall_score,accuracy_score"
   ]
  },
  {
   "cell_type": "code",
   "execution_count": 172,
   "metadata": {},
   "outputs": [
    {
     "name": "stdout",
     "output_type": "stream",
     "text": [
      "0.9262800370350825\n"
     ]
    }
   ],
   "source": [
    "print(f1_score(y_true=y_train,y_pred=pred))"
   ]
  },
  {
   "cell_type": "code",
   "execution_count": 112,
   "metadata": {},
   "outputs": [],
   "source": [
    "softmax_probs = np.array([[5.9827487e-10], [2.0308545e-10], [1.3390944e-06], [4.1535868e-09], [2.2659113e-07], [1.0400553e-06]])"
   ]
  },
  {
   "cell_type": "code",
   "execution_count": 114,
   "metadata": {},
   "outputs": [
    {
     "data": {
      "text/plain": [
       "array([5.9827487e-10, 2.0308545e-10, 1.3390944e-06, 4.1535868e-09,\n",
       "       2.2659113e-07, 1.0400553e-06])"
      ]
     },
     "execution_count": 114,
     "metadata": {},
     "output_type": "execute_result"
    }
   ],
   "source": [
    "softmax_probs.squeeze()"
   ]
  },
  {
   "cell_type": "code",
   "execution_count": 16,
   "metadata": {},
   "outputs": [],
   "source": [
    "new_model = tf.keras.models.load_model(\"D:/Machine Learning project/Loan/Loan Project/loan_prediction/artifact/model_trainer/trained_model/model.h5\")"
   ]
  },
  {
   "cell_type": "code",
   "execution_count": 17,
   "metadata": {},
   "outputs": [],
   "source": [
    "new_model.compile(optimizer='adam',\n",
    "                     loss='binary_crossentropy',\n",
    "                     metrics=['accuracy'])"
   ]
  },
  {
   "cell_type": "code",
   "execution_count": 18,
   "metadata": {},
   "outputs": [
    {
     "name": "stdout",
     "output_type": "stream",
     "text": [
      "Epoch 1/3\n",
      "\u001b[1m12431/12431\u001b[0m \u001b[32m━━━━━━━━━━━━━━━━━━━━\u001b[0m\u001b[37m\u001b[0m \u001b[1m16s\u001b[0m 1ms/step - accuracy: 0.9343 - loss: 0.1998\n",
      "Epoch 2/3\n",
      "\u001b[1m12431/12431\u001b[0m \u001b[32m━━━━━━━━━━━━━━━━━━━━\u001b[0m\u001b[37m\u001b[0m \u001b[1m14s\u001b[0m 1ms/step - accuracy: 0.9342 - loss: 0.1997\n",
      "Epoch 3/3\n",
      "\u001b[1m12431/12431\u001b[0m \u001b[32m━━━━━━━━━━━━━━━━━━━━\u001b[0m\u001b[37m\u001b[0m \u001b[1m14s\u001b[0m 1ms/step - accuracy: 0.9354 - loss: 0.1967\n"
     ]
    },
    {
     "data": {
      "text/plain": [
       "<keras.src.callbacks.history.History at 0x19a47736230>"
      ]
     },
     "execution_count": 18,
     "metadata": {},
     "output_type": "execute_result"
    }
   ],
   "source": [
    "new_model.fit(X_train,y_train,epochs=3)"
   ]
  },
  {
   "cell_type": "code",
   "execution_count": null,
   "metadata": {},
   "outputs": [],
   "source": []
  }
 ],
 "metadata": {
  "kernelspec": {
   "display_name": "lven",
   "language": "python",
   "name": "python3"
  },
  "language_info": {
   "codemirror_mode": {
    "name": "ipython",
    "version": 3
   },
   "file_extension": ".py",
   "mimetype": "text/x-python",
   "name": "python",
   "nbconvert_exporter": "python",
   "pygments_lexer": "ipython3",
   "version": "3.10.0"
  }
 },
 "nbformat": 4,
 "nbformat_minor": 2
}
