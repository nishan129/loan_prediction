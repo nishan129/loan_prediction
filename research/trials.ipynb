{
 "cells": [
  {
   "cell_type": "code",
   "execution_count": 1,
   "metadata": {},
   "outputs": [],
   "source": [
    "from src.loan.constant.trainingpipeline import SCHEMA_FILE_PATH\n",
    "from sklearn.model_selection import train_test_split\n",
    "import pandas as pd\n",
    "import os, sys\n",
    "from src.loan.exception import ModelException\n",
    "from src.loan.logger import logging\n",
    "from scipy.stats import ks_2samp"
   ]
  },
  {
   "cell_type": "code",
   "execution_count": 2,
   "metadata": {},
   "outputs": [],
   "source": [
    "from src.loan.utils.main_utils import read_yaml_file, write_yaml_file"
   ]
  },
  {
   "cell_type": "code",
   "execution_count": 3,
   "metadata": {},
   "outputs": [],
   "source": [
    "schema_config = read_yaml_file(\"D:/Machine Learning project/Loan/Loan Project/loan_prediction/config/schema.yaml\")"
   ]
  },
  {
   "cell_type": "code",
   "execution_count": 4,
   "metadata": {},
   "outputs": [],
   "source": [
    "import yaml\n",
    "\n",
    "def read_yaml_file(filename):\n",
    "    with open(filename, 'r') as file:\n",
    "        data = yaml.safe_load(file)\n",
    "    return data"
   ]
  },
  {
   "cell_type": "code",
   "execution_count": 5,
   "metadata": {},
   "outputs": [],
   "source": [
    "a = read_yaml_file(\"D:/Machine Learning project/Loan/Loan Project/loan_prediction/config/schema.yaml\")"
   ]
  },
  {
   "cell_type": "code",
   "execution_count": 6,
   "metadata": {},
   "outputs": [],
   "source": [
    "filename = \"D:/Machine Learning project/Loan/Loan Project/loan_prediction/research\""
   ]
  },
  {
   "cell_type": "code",
   "execution_count": 7,
   "metadata": {},
   "outputs": [],
   "source": [
    "report = {\"not\":\"ok\",\"oy\":\"jok\"}"
   ]
  },
  {
   "cell_type": "code",
   "execution_count": 8,
   "metadata": {},
   "outputs": [],
   "source": [
    "def write_yaml_file(filename: str, data, replace:bool = False) -> None:\n",
    "    try:\n",
    "        if replace:\n",
    "            if os.path.exists(filename):\n",
    "                os.remove(filename)\n",
    "        os.makedirs(os.path.dirname(filename), exist_ok=True)\n",
    "        with open(filename, \"w\") as file:\n",
    "            return yaml.dump(data,file,default_flow_style=False)\n",
    "    except Exception as e:\n",
    "        raise ModelException(e,sys)"
   ]
  },
  {
   "cell_type": "code",
   "execution_count": 9,
   "metadata": {},
   "outputs": [],
   "source": [
    "def writ_yaml_file(data, filename):\n",
    "    with open(filename, 'w') as file:\n",
    "        yaml.dump(data, file, default_flow_style=False)"
   ]
  },
  {
   "cell_type": "code",
   "execution_count": 10,
   "metadata": {},
   "outputs": [],
   "source": [
    "from src.loan.constant.trainingpipeline import PIPELINE_NAME, ARTIFACT_DIR"
   ]
  },
  {
   "cell_type": "code",
   "execution_count": 29,
   "metadata": {},
   "outputs": [],
   "source": [
    "a:str = 'data_validation'\n",
    "b:str = \"drift_report\"\n",
    "c:str = \"report.yaml\""
   ]
  },
  {
   "cell_type": "code",
   "execution_count": 37,
   "metadata": {},
   "outputs": [],
   "source": [
    "d = os.path.join(a,b,c)"
   ]
  },
  {
   "cell_type": "code",
   "execution_count": 31,
   "metadata": {},
   "outputs": [],
   "source": [
    "os.makedirs(d,exist_ok=True)"
   ]
  },
  {
   "cell_type": "code",
   "execution_count": 32,
   "metadata": {},
   "outputs": [],
   "source": [
    "def write_yaml_file(filename: str, data, replace:bool = False) -> None:\n",
    "    try:\n",
    "        if replace:\n",
    "            if os.path.exists(filename):\n",
    "                os.remove(filename)\n",
    "        os.makedirs(os.path.dirname(filename), exist_ok=True)\n",
    "        with open(filename, \"w\") as file:\n",
    "            return yaml.dump(data,file,default_flow_style=False)\n",
    "    except Exception as e:\n",
    "        raise ModelException(e,sys)"
   ]
  },
  {
   "cell_type": "code",
   "execution_count": 38,
   "metadata": {},
   "outputs": [],
   "source": [
    "report = {}"
   ]
  },
  {
   "cell_type": "code",
   "execution_count": 39,
   "metadata": {},
   "outputs": [],
   "source": [
    "for col in range(3):\n",
    "    report.update({col:{\"p_value\": float(col+1),\n",
    "                                        \"drift_status\": col -1}})"
   ]
  },
  {
   "cell_type": "code",
   "execution_count": 40,
   "metadata": {},
   "outputs": [
    {
     "name": "stdout",
     "output_type": "stream",
     "text": [
      "{0: {'p_value': 1.0, 'drift_status': -1}, 1: {'p_value': 2.0, 'drift_status': 0}, 2: {'p_value': 3.0, 'drift_status': 1}}\n"
     ]
    }
   ],
   "source": [
    "print(report)"
   ]
  },
  {
   "cell_type": "code",
   "execution_count": 41,
   "metadata": {},
   "outputs": [],
   "source": [
    "e = os.path.join(d)"
   ]
  },
  {
   "cell_type": "code",
   "execution_count": 42,
   "metadata": {},
   "outputs": [],
   "source": [
    "write_yaml_file(filename=e,data=report)"
   ]
  },
  {
   "cell_type": "code",
   "execution_count": null,
   "metadata": {},
   "outputs": [],
   "source": [
    "from src.loan.constant.trainingpipeline import TRAIN_FILE_PATH, TEST_FILE_NAME\n"
   ]
  }
 ],
 "metadata": {
  "kernelspec": {
   "display_name": "lven",
   "language": "python",
   "name": "python3"
  },
  "language_info": {
   "codemirror_mode": {
    "name": "ipython",
    "version": 3
   },
   "file_extension": ".py",
   "mimetype": "text/x-python",
   "name": "python",
   "nbconvert_exporter": "python",
   "pygments_lexer": "ipython3",
   "version": "3.10.0"
  }
 },
 "nbformat": 4,
 "nbformat_minor": 2
}
